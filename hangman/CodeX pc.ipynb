{
 "cells": [
  {
   "cell_type": "code",
   "execution_count": 3,
   "id": "6a5713e9",
   "metadata": {},
   "outputs": [],
   "source": [
    "class hangman_art:\n",
    "    stages = ['''\n",
    "      +---+\n",
    "      |   |\n",
    "      O   |\n",
    "     /|\\  |\n",
    "     / \\  |\n",
    "          |\n",
    "    =========\n",
    "    ''', '''\n",
    "      +---+\n",
    "      |   |\n",
    "      O   |\n",
    "     /|\\  |\n",
    "     /    |\n",
    "          |\n",
    "    =========\n",
    "    ''', '''\n",
    "      +---+\n",
    "      |   |\n",
    "      O   |\n",
    "     /|\\  |\n",
    "          |\n",
    "          |\n",
    "    =========\n",
    "    ''', '''\n",
    "      +---+\n",
    "      |   |\n",
    "      O   |\n",
    "     /|   |\n",
    "          |\n",
    "          |\n",
    "    =========''', '''\n",
    "      +---+\n",
    "      |   |\n",
    "      O   |\n",
    "      |   |\n",
    "          |\n",
    "          |\n",
    "    =========\n",
    "    ''', '''\n",
    "      +---+\n",
    "      |   |\n",
    "      O   |\n",
    "          |\n",
    "          |\n",
    "          |\n",
    "    =========\n",
    "    ''', '''\n",
    "      +---+\n",
    "      |   |\n",
    "          |\n",
    "          |\n",
    "          |\n",
    "          |\n",
    "    =========\n",
    "    ''']\n",
    "\n",
    "    logo = ''' \n",
    "     _                                             \n",
    "    | |                                            \n",
    "    | |__   __ _ _ __   __ _ _ __ ___   __ _ _ __  \n",
    "    | '_ \\ / _` | '_ \\ / _` | '_ ` _ \\ / _` | '_ \\ \n",
    "    | | | | (_| | | | | (_| | | | | | | (_| | | | |\n",
    "    |_| |_|\\__,_|_| |_|\\__, |_| |_| |_|\\__,_|_| |_|\n",
    "                        __/ |                      \n",
    "                       |___/    '''\n",
    "\n",
    "\n",
    "                                                         "
   ]
  },
  {
   "cell_type": "code",
   "execution_count": 4,
   "id": "6661f257",
   "metadata": {},
   "outputs": [],
   "source": [
    "from hangman_art import stages, logo"
   ]
  },
  {
   "cell_type": "code",
   "execution_count": 5,
   "id": "a08e89c8",
   "metadata": {},
   "outputs": [
    {
     "name": "stdout",
     "output_type": "stream",
     "text": [
      "ooho, the solution is ardvark\n",
      "['_', '_', '_', '_', '_', '_', '_']\n",
      "guess a letter: a\n",
      "['a', '_', '_', '_', 'a', '_', '_']\n",
      "guess a letter: r\n",
      "['a', 'r', '_', '_', 'a', 'r', '_']\n",
      "guess a letter: d\n",
      "['a', 'r', 'd', '_', 'a', 'r', '_']\n",
      "guess a letter: r\n",
      "['a', 'r', 'd', '_', 'a', 'r', '_']\n",
      "guess a letter: k\n",
      "['a', 'r', 'd', '_', 'a', 'r', 'k']\n",
      "guess a letter: v\n",
      "['a', 'r', 'd', 'v', 'a', 'r', 'k']\n",
      "You win\n"
     ]
    }
   ],
   "source": [
    "word_list = [\"ardvark\", \"babbon\", \"camel\"]\n",
    "\n",
    "import random\n",
    "chosen_word = random.choice(word_list)\n",
    "\n",
    "#Testing code\n",
    "print(f\"ooho, the solution is {chosen_word}\")\n",
    "\n",
    "word_length = len(chosen_word)\n",
    "display = []\n",
    "for _ in range(word_length):\n",
    "    display += \"_\"\n",
    "print(display)\n",
    "\n",
    "end_of_game = False\n",
    "while not end_of_game:\n",
    "    while '_' in display:\n",
    "        guess = input(\"guess a letter: \").lower()\n",
    "        for position in range(word_length):\n",
    "            letter = chosen_word[position]\n",
    "            if guess == letter:\n",
    "                display[position] = letter\n",
    "        print(display)\n",
    "    print('You win')\n",
    "    end_of_game = True"
   ]
  },
  {
   "cell_type": "code",
   "execution_count": 9,
   "id": "3373a80b",
   "metadata": {
    "scrolled": true
   },
   "outputs": [
    {
     "name": "stdout",
     "output_type": "stream",
     "text": [
      "ooho, the solution is hippopotamus\n",
      "['_', '_', '_', '_', '_', '_', '_', '_', '_', '_', '_', '_']\n",
      "guess a letter: b\n",
      "['_', '_', '_', '_', '_', '_', '_', '_', '_', '_', '_', '_']\n",
      "\n",
      "  +---+\n",
      "  |   |\n",
      "  O   |\n",
      "      |\n",
      "      |\n",
      "      |\n",
      "=========\n",
      "\n",
      "guess a letter: l\n",
      "['_', '_', '_', '_', '_', '_', '_', '_', '_', '_', '_', '_']\n",
      "\n",
      "  +---+\n",
      "  |   |\n",
      "  O   |\n",
      "  |   |\n",
      "      |\n",
      "      |\n",
      "=========\n",
      "\n",
      "guess a letter: u\n",
      "['_', '_', '_', '_', '_', '_', '_', '_', '_', '_', 'u', '_']\n",
      "guess a letter: h\n",
      "['h', '_', '_', '_', '_', '_', '_', '_', '_', '_', 'u', '_']\n",
      "guess a letter: i\n",
      "['h', 'i', '_', '_', '_', '_', '_', '_', '_', '_', 'u', '_']\n",
      "guess a letter: t\n",
      "['h', 'i', '_', '_', '_', '_', '_', 't', '_', '_', 'u', '_']\n",
      "guess a letter: q\n",
      "['h', 'i', '_', '_', '_', '_', '_', 't', '_', '_', 'u', '_']\n",
      "\n",
      "  +---+\n",
      "  |   |\n",
      "  O   |\n",
      " /|   |\n",
      "      |\n",
      "      |\n",
      "=========\n",
      "guess a letter: l\n",
      "['h', 'i', '_', '_', '_', '_', '_', 't', '_', '_', 'u', '_']\n",
      "\n",
      "  +---+\n",
      "  |   |\n",
      "  O   |\n",
      " /|\\  |\n",
      "      |\n",
      "      |\n",
      "=========\n",
      "\n",
      "guess a letter: v\n",
      "['h', 'i', '_', '_', '_', '_', '_', 't', '_', '_', 'u', '_']\n",
      "\n",
      "  +---+\n",
      "  |   |\n",
      "  O   |\n",
      " /|\\  |\n",
      " /    |\n",
      "      |\n",
      "=========\n",
      "\n",
      "guess a letter: m\n",
      "['h', 'i', '_', '_', '_', '_', '_', 't', '_', 'm', 'u', '_']\n",
      "guess a letter: s\n",
      "['h', 'i', '_', '_', '_', '_', '_', 't', '_', 'm', 'u', 's']\n",
      "guess a letter: p\n",
      "['h', 'i', 'p', 'p', '_', 'p', '_', 't', '_', 'm', 'u', 's']\n",
      "guess a letter: e\n",
      "['h', 'i', 'p', 'p', '_', 'p', '_', 't', '_', 'm', 'u', 's']\n",
      "\n",
      "  +---+\n",
      "  |   |\n",
      "  O   |\n",
      " /|\\  |\n",
      " / \\  |\n",
      "      |\n",
      "=========\n",
      "\n",
      "You lose\n"
     ]
    }
   ],
   "source": [
    "word_list = [\"ardvark\", \"babbon\", \"camel\", \"daniel\", \"hippopotamus\",\"gorrila\",\"avalanche\"]\n",
    "\n",
    "import random\n",
    "chosen_word = random.choice(word_list)\n",
    "\n",
    "lives = 6\n",
    "\n",
    "#Testing code\n",
    "print(f\"ooho, the solution is {chosen_word}\")\n",
    "\n",
    "word_length = len(chosen_word)\n",
    "display = []\n",
    "for _ in range(word_length):\n",
    "    display += \"_\"\n",
    "print(display)\n",
    "\n",
    "end_of_game = False\n",
    "while not end_of_game:\n",
    "    guess = input(\"guess a letter: \").lower()\n",
    "    for position in range(word_length):\n",
    "        letter = chosen_word[position]\n",
    "        if guess == letter:\n",
    "            display[position] = letter\n",
    "    print(display)\n",
    "    if guess not in chosen_word:\n",
    "        lives -= 1\n",
    "        print(stages[lives])\n",
    "        if lives == 0:\n",
    "            end_of_game = True\n",
    "            print('You lose')\n",
    "\n",
    "    if '_' not in display:\n",
    "        end_of_game = True\n",
    "        print('You win')"
   ]
  },
  {
   "cell_type": "code",
   "execution_count": 7,
   "id": "a400eb95",
   "metadata": {},
   "outputs": [],
   "source": [
    "def add_alpha():\n",
    "    add_more = True\n",
    "    empty_list = []\n",
    "    while add_more:\n",
    "        letter = input(\"make an input\")\n",
    "        if letter == 'done':\n",
    "            add_more = False\n",
    "        empty_list += letter\n",
    "#         check = input(\"Do you want to add more letters. 'yes' or 'no'\").lower()\n",
    "#         if check == 'no':\n",
    "            \n",
    "    empty_list.pop()\n",
    "    empty_list.pop()\n",
    "    empty_list.pop()\n",
    "    empty_list.pop()\n",
    "    name = empty_list\n",
    "    print(name)"
   ]
  },
  {
   "cell_type": "code",
   "execution_count": 8,
   "id": "06b51565",
   "metadata": {},
   "outputs": [
    {
     "name": "stdout",
     "output_type": "stream",
     "text": [
      "make an inputabcdefghijklmnopqrstuvwxyz\n",
      "make an inputdone\n",
      "['a', 'b', 'c', 'd', 'e', 'f', 'g', 'h', 'i', 'j', 'k', 'l', 'm', 'n', 'o', 'p', 'q', 'r', 's', 't', 'u', 'v', 'w', 'x', 'y', 'z']\n"
     ]
    }
   ],
   "source": [
    "add_alpha()"
   ]
  },
  {
   "cell_type": "code",
   "execution_count": 10,
   "id": "1613b614",
   "metadata": {},
   "outputs": [],
   "source": [
    "alphabets = ['a', 'b', 'c', 'd', 'e', 'f', 'g', 'h', 'i', 'j', 'k', 'l', 'm', 'n', 'o', 'p', 'q', 'r', 's', 't', 'u', 'v', 'w', 'x', 'y', 'z']"
   ]
  },
  {
   "cell_type": "code",
   "execution_count": 43,
   "id": "35384b26",
   "metadata": {},
   "outputs": [],
   "source": [
    "alphabets = ['a', 'b', 'c', 'd', 'e', 'f', 'g', 'h', 'i', 'j', 'k', 'l', 'm', 'n', 'o', 'p', 'q', 'r', 's', 't', 'u', 'v', 'w', 'x', 'y', 'z']\n",
    "\n",
    "\n",
    "#text = input(\"Type the text\")"
   ]
  },
  {
   "cell_type": "code",
   "execution_count": 49,
   "id": "27d5f876",
   "metadata": {},
   "outputs": [],
   "source": [
    "def encrypt(text, shift):\n",
    "    direction = input(\"Type 'encode' to encrypt, type 'decode' to decrypt:\\n\")\n",
    "    #shift= int(input(\"Type the shift number:\\n\"))\n",
    "    text_encode  = \"\"\n",
    "    for letter in text.lower():\n",
    "        if direction == 'encode':\n",
    "            position = alphabets.index(letter)\n",
    "            new_position = position + shift\n",
    "            if new_position > 25:\n",
    "                new_letter = new_position%len(alphabets)\n",
    "            new_letter = alphabets[new_position]\n",
    "            text_encode += new_letter\n",
    "    print(f\"The encoded text is {text_encode}\")"
   ]
  },
  {
   "cell_type": "code",
   "execution_count": 50,
   "id": "47987482",
   "metadata": {},
   "outputs": [
    {
     "name": "stdout",
     "output_type": "stream",
     "text": [
      "Type 'encode' to encrypt, type 'decode' to decrypt:\n",
      "encode\n"
     ]
    },
    {
     "ename": "IndexError",
     "evalue": "list index out of range",
     "output_type": "error",
     "traceback": [
      "\u001b[0;31m---------------------------------------------------------------------------\u001b[0m",
      "\u001b[0;31mIndexError\u001b[0m                                Traceback (most recent call last)",
      "\u001b[0;32m/tmp/ipykernel_40962/3568053227.py\u001b[0m in \u001b[0;36m<module>\u001b[0;34m\u001b[0m\n\u001b[0;32m----> 1\u001b[0;31m \u001b[0mencrypt\u001b[0m\u001b[0;34m(\u001b[0m\u001b[0;34m'Helloz'\u001b[0m\u001b[0;34m,\u001b[0m\u001b[0;36m5\u001b[0m\u001b[0;34m)\u001b[0m\u001b[0;34m\u001b[0m\u001b[0;34m\u001b[0m\u001b[0m\n\u001b[0m",
      "\u001b[0;32m/tmp/ipykernel_40962/190556486.py\u001b[0m in \u001b[0;36mencrypt\u001b[0;34m(text, shift)\u001b[0m\n\u001b[1;32m      9\u001b[0m             \u001b[0;32mif\u001b[0m \u001b[0mnew_position\u001b[0m \u001b[0;34m>\u001b[0m \u001b[0;36m25\u001b[0m\u001b[0;34m:\u001b[0m\u001b[0;34m\u001b[0m\u001b[0;34m\u001b[0m\u001b[0m\n\u001b[1;32m     10\u001b[0m                 \u001b[0mnew_letter\u001b[0m \u001b[0;34m=\u001b[0m \u001b[0mnew_position\u001b[0m\u001b[0;34m%\u001b[0m\u001b[0mlen\u001b[0m\u001b[0;34m(\u001b[0m\u001b[0malphabets\u001b[0m\u001b[0;34m)\u001b[0m\u001b[0;34m\u001b[0m\u001b[0;34m\u001b[0m\u001b[0m\n\u001b[0;32m---> 11\u001b[0;31m                 \u001b[0mnew_letter\u001b[0m \u001b[0;34m=\u001b[0m \u001b[0malphabets\u001b[0m\u001b[0;34m[\u001b[0m\u001b[0mnew_position\u001b[0m\u001b[0;34m]\u001b[0m\u001b[0;34m\u001b[0m\u001b[0;34m\u001b[0m\u001b[0m\n\u001b[0m\u001b[1;32m     12\u001b[0m                 \u001b[0mtext_encode\u001b[0m \u001b[0;34m+=\u001b[0m \u001b[0mnew_letter\u001b[0m\u001b[0;34m\u001b[0m\u001b[0;34m\u001b[0m\u001b[0m\n\u001b[1;32m     13\u001b[0m     \u001b[0mprint\u001b[0m\u001b[0;34m(\u001b[0m\u001b[0;34mf\"The encoded text is {text_encode}\"\u001b[0m\u001b[0;34m)\u001b[0m\u001b[0;34m\u001b[0m\u001b[0;34m\u001b[0m\u001b[0m\n",
      "\u001b[0;31mIndexError\u001b[0m: list index out of range"
     ]
    }
   ],
   "source": [
    "encrypt('Helloz',5)"
   ]
  },
  {
   "cell_type": "code",
   "execution_count": 45,
   "id": "205d8be3",
   "metadata": {},
   "outputs": [
    {
     "data": {
      "text/plain": [
       "26"
      ]
     },
     "execution_count": 45,
     "metadata": {},
     "output_type": "execute_result"
    }
   ],
   "source": [
    "len(alphabets)"
   ]
  },
  {
   "cell_type": "code",
   "execution_count": null,
   "id": "5565a693",
   "metadata": {},
   "outputs": [],
   "source": []
  }
 ],
 "metadata": {
  "kernelspec": {
   "display_name": "Python 3 (ipykernel)",
   "language": "python",
   "name": "python3"
  },
  "language_info": {
   "codemirror_mode": {
    "name": "ipython",
    "version": 3
   },
   "file_extension": ".py",
   "mimetype": "text/x-python",
   "name": "python",
   "nbconvert_exporter": "python",
   "pygments_lexer": "ipython3",
   "version": "3.9.7"
  }
 },
 "nbformat": 4,
 "nbformat_minor": 5
}
